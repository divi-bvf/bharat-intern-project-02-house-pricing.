{
 "cells": [
  {
   "cell_type": "code",
   "execution_count": 34,
   "id": "fb3815e0",
   "metadata": {},
   "outputs": [],
   "source": [
    "import pandas as pd\n",
    "import numpy as np\n",
    "import matplotlib.pyplot as plt\n",
    "import seaborn as sns\n",
    "from sklearn.preprocessing import StandardScaler"
   ]
  },
  {
   "cell_type": "code",
   "execution_count": 35,
   "id": "a997dfd0",
   "metadata": {},
   "outputs": [
    {
     "data": {
      "text/html": [
       "<div>\n",
       "<style scoped>\n",
       "    .dataframe tbody tr th:only-of-type {\n",
       "        vertical-align: middle;\n",
       "    }\n",
       "\n",
       "    .dataframe tbody tr th {\n",
       "        vertical-align: top;\n",
       "    }\n",
       "\n",
       "    .dataframe thead th {\n",
       "        text-align: right;\n",
       "    }\n",
       "</style>\n",
       "<table border=\"1\" class=\"dataframe\">\n",
       "  <thead>\n",
       "    <tr style=\"text-align: right;\">\n",
       "      <th></th>\n",
       "      <th>fixed acidity</th>\n",
       "      <th>volatile acidity</th>\n",
       "      <th>citric acid</th>\n",
       "      <th>residual sugar</th>\n",
       "      <th>chlorides</th>\n",
       "      <th>free sulfur dioxide</th>\n",
       "      <th>total sulfur dioxide</th>\n",
       "      <th>density</th>\n",
       "      <th>pH</th>\n",
       "      <th>sulphates</th>\n",
       "      <th>alcohol</th>\n",
       "      <th>quality</th>\n",
       "    </tr>\n",
       "  </thead>\n",
       "  <tbody>\n",
       "    <tr>\n",
       "      <th>0</th>\n",
       "      <td>7.4</td>\n",
       "      <td>0.700</td>\n",
       "      <td>0.00</td>\n",
       "      <td>1.9</td>\n",
       "      <td>0.076</td>\n",
       "      <td>11.0</td>\n",
       "      <td>34.0</td>\n",
       "      <td>0.99780</td>\n",
       "      <td>3.51</td>\n",
       "      <td>0.56</td>\n",
       "      <td>9.4</td>\n",
       "      <td>5</td>\n",
       "    </tr>\n",
       "    <tr>\n",
       "      <th>1</th>\n",
       "      <td>7.8</td>\n",
       "      <td>0.880</td>\n",
       "      <td>0.00</td>\n",
       "      <td>2.6</td>\n",
       "      <td>0.098</td>\n",
       "      <td>25.0</td>\n",
       "      <td>67.0</td>\n",
       "      <td>0.99680</td>\n",
       "      <td>3.20</td>\n",
       "      <td>0.68</td>\n",
       "      <td>9.8</td>\n",
       "      <td>5</td>\n",
       "    </tr>\n",
       "    <tr>\n",
       "      <th>2</th>\n",
       "      <td>7.8</td>\n",
       "      <td>0.760</td>\n",
       "      <td>0.04</td>\n",
       "      <td>2.3</td>\n",
       "      <td>0.092</td>\n",
       "      <td>15.0</td>\n",
       "      <td>54.0</td>\n",
       "      <td>0.99700</td>\n",
       "      <td>3.26</td>\n",
       "      <td>0.65</td>\n",
       "      <td>9.8</td>\n",
       "      <td>5</td>\n",
       "    </tr>\n",
       "    <tr>\n",
       "      <th>3</th>\n",
       "      <td>11.2</td>\n",
       "      <td>0.280</td>\n",
       "      <td>0.56</td>\n",
       "      <td>1.9</td>\n",
       "      <td>0.075</td>\n",
       "      <td>17.0</td>\n",
       "      <td>60.0</td>\n",
       "      <td>0.99800</td>\n",
       "      <td>3.16</td>\n",
       "      <td>0.58</td>\n",
       "      <td>9.8</td>\n",
       "      <td>6</td>\n",
       "    </tr>\n",
       "    <tr>\n",
       "      <th>4</th>\n",
       "      <td>7.4</td>\n",
       "      <td>0.700</td>\n",
       "      <td>0.00</td>\n",
       "      <td>1.9</td>\n",
       "      <td>0.076</td>\n",
       "      <td>11.0</td>\n",
       "      <td>34.0</td>\n",
       "      <td>0.99780</td>\n",
       "      <td>3.51</td>\n",
       "      <td>0.56</td>\n",
       "      <td>9.4</td>\n",
       "      <td>5</td>\n",
       "    </tr>\n",
       "    <tr>\n",
       "      <th>...</th>\n",
       "      <td>...</td>\n",
       "      <td>...</td>\n",
       "      <td>...</td>\n",
       "      <td>...</td>\n",
       "      <td>...</td>\n",
       "      <td>...</td>\n",
       "      <td>...</td>\n",
       "      <td>...</td>\n",
       "      <td>...</td>\n",
       "      <td>...</td>\n",
       "      <td>...</td>\n",
       "      <td>...</td>\n",
       "    </tr>\n",
       "    <tr>\n",
       "      <th>1594</th>\n",
       "      <td>6.2</td>\n",
       "      <td>0.600</td>\n",
       "      <td>0.08</td>\n",
       "      <td>2.0</td>\n",
       "      <td>0.090</td>\n",
       "      <td>32.0</td>\n",
       "      <td>44.0</td>\n",
       "      <td>0.99490</td>\n",
       "      <td>3.45</td>\n",
       "      <td>0.58</td>\n",
       "      <td>10.5</td>\n",
       "      <td>5</td>\n",
       "    </tr>\n",
       "    <tr>\n",
       "      <th>1595</th>\n",
       "      <td>5.9</td>\n",
       "      <td>0.550</td>\n",
       "      <td>0.10</td>\n",
       "      <td>2.2</td>\n",
       "      <td>0.062</td>\n",
       "      <td>39.0</td>\n",
       "      <td>51.0</td>\n",
       "      <td>0.99512</td>\n",
       "      <td>3.52</td>\n",
       "      <td>0.76</td>\n",
       "      <td>11.2</td>\n",
       "      <td>6</td>\n",
       "    </tr>\n",
       "    <tr>\n",
       "      <th>1596</th>\n",
       "      <td>6.3</td>\n",
       "      <td>0.510</td>\n",
       "      <td>0.13</td>\n",
       "      <td>2.3</td>\n",
       "      <td>0.076</td>\n",
       "      <td>29.0</td>\n",
       "      <td>40.0</td>\n",
       "      <td>0.99574</td>\n",
       "      <td>3.42</td>\n",
       "      <td>0.75</td>\n",
       "      <td>11.0</td>\n",
       "      <td>6</td>\n",
       "    </tr>\n",
       "    <tr>\n",
       "      <th>1597</th>\n",
       "      <td>5.9</td>\n",
       "      <td>0.645</td>\n",
       "      <td>0.12</td>\n",
       "      <td>2.0</td>\n",
       "      <td>0.075</td>\n",
       "      <td>32.0</td>\n",
       "      <td>44.0</td>\n",
       "      <td>0.99547</td>\n",
       "      <td>3.57</td>\n",
       "      <td>0.71</td>\n",
       "      <td>10.2</td>\n",
       "      <td>5</td>\n",
       "    </tr>\n",
       "    <tr>\n",
       "      <th>1598</th>\n",
       "      <td>6.0</td>\n",
       "      <td>0.310</td>\n",
       "      <td>0.47</td>\n",
       "      <td>3.6</td>\n",
       "      <td>0.067</td>\n",
       "      <td>18.0</td>\n",
       "      <td>42.0</td>\n",
       "      <td>0.99549</td>\n",
       "      <td>3.39</td>\n",
       "      <td>0.66</td>\n",
       "      <td>11.0</td>\n",
       "      <td>6</td>\n",
       "    </tr>\n",
       "  </tbody>\n",
       "</table>\n",
       "<p>1599 rows × 12 columns</p>\n",
       "</div>"
      ],
      "text/plain": [
       "      fixed acidity  volatile acidity  citric acid  residual sugar  chlorides  \\\n",
       "0               7.4             0.700         0.00             1.9      0.076   \n",
       "1               7.8             0.880         0.00             2.6      0.098   \n",
       "2               7.8             0.760         0.04             2.3      0.092   \n",
       "3              11.2             0.280         0.56             1.9      0.075   \n",
       "4               7.4             0.700         0.00             1.9      0.076   \n",
       "...             ...               ...          ...             ...        ...   \n",
       "1594            6.2             0.600         0.08             2.0      0.090   \n",
       "1595            5.9             0.550         0.10             2.2      0.062   \n",
       "1596            6.3             0.510         0.13             2.3      0.076   \n",
       "1597            5.9             0.645         0.12             2.0      0.075   \n",
       "1598            6.0             0.310         0.47             3.6      0.067   \n",
       "\n",
       "      free sulfur dioxide  total sulfur dioxide  density    pH  sulphates  \\\n",
       "0                    11.0                  34.0  0.99780  3.51       0.56   \n",
       "1                    25.0                  67.0  0.99680  3.20       0.68   \n",
       "2                    15.0                  54.0  0.99700  3.26       0.65   \n",
       "3                    17.0                  60.0  0.99800  3.16       0.58   \n",
       "4                    11.0                  34.0  0.99780  3.51       0.56   \n",
       "...                   ...                   ...      ...   ...        ...   \n",
       "1594                 32.0                  44.0  0.99490  3.45       0.58   \n",
       "1595                 39.0                  51.0  0.99512  3.52       0.76   \n",
       "1596                 29.0                  40.0  0.99574  3.42       0.75   \n",
       "1597                 32.0                  44.0  0.99547  3.57       0.71   \n",
       "1598                 18.0                  42.0  0.99549  3.39       0.66   \n",
       "\n",
       "      alcohol  quality  \n",
       "0         9.4        5  \n",
       "1         9.8        5  \n",
       "2         9.8        5  \n",
       "3         9.8        6  \n",
       "4         9.4        5  \n",
       "...       ...      ...  \n",
       "1594     10.5        5  \n",
       "1595     11.2        6  \n",
       "1596     11.0        6  \n",
       "1597     10.2        5  \n",
       "1598     11.0        6  \n",
       "\n",
       "[1599 rows x 12 columns]"
      ]
     },
     "execution_count": 35,
     "metadata": {},
     "output_type": "execute_result"
    }
   ],
   "source": [
    "df=pd.read_csv('winequality-red.csv')\n",
    "df"
   ]
  },
  {
   "cell_type": "code",
   "execution_count": 36,
   "id": "23525ebc",
   "metadata": {},
   "outputs": [
    {
     "data": {
      "text/plain": [
       "<AxesSubplot:xlabel='quality', ylabel='count'>"
      ]
     },
     "execution_count": 36,
     "metadata": {},
     "output_type": "execute_result"
    },
    {
     "data": {
      "image/png": "[encoded data removed]",
      "text/plain": [
       "<Figure size 432x288 with 1 Axes>"
      ]
     },
     "metadata": {
      "needs_background": "light"
     },
     "output_type": "display_data"
    }
   ],
   "source": [
    "sns.countplot(x='quality',data=df)"
   ]
  },
  {
   "cell_type": "code",
   "execution_count": 37,
   "id": "22a9948a",
   "metadata": {},
   "outputs": [
    {
     "data": {
      "text/plain": [
       "<BarContainer object of 1599 artists>"
      ]
     },
     "execution_count": 37,
     "metadata": {},
     "output_type": "execute_result"
    },
    {
     "data": {
      "image/png": "[encoded data removed]",
      "text/plain": [
       "<Figure size 432x288 with 1 Axes>"
      ]
     },
     "metadata": {
      "needs_background": "light"
     },
     "output_type": "display_data"
    }
   ],
   "source": [
    "plt.bar(x=df['quality'],height=df['alcohol'])"
   ]
  },
  {
   "cell_type": "code",
   "execution_count": 38,
   "id": "012f9d67",
   "metadata": {},
   "outputs": [
    {
     "data": {
      "text/plain": [
       "fixed acidity           0\n",
       "volatile acidity        0\n",
       "citric acid             0\n",
       "residual sugar          0\n",
       "chlorides               0\n",
       "free sulfur dioxide     0\n",
       "total sulfur dioxide    0\n",
       "density                 0\n",
       "pH                      0\n",
       "sulphates               0\n",
       "alcohol                 0\n",
       "quality                 0\n",
       "dtype: int64"
      ]
     },
     "execution_count": 38,
     "metadata": {},
     "output_type": "execute_result"
    }
   ],
   "source": [
    "df.isnull().sum()"
   ]
  },
  {
   "cell_type": "code",
   "execution_count": 39,
   "id": "f447633e",
   "metadata": {},
   "outputs": [
    {
     "data": {
      "text/plain": [
       "['fixed acidity',\n",
       " 'volatile acidity',\n",
       " 'citric acid',\n",
       " 'residual sugar',\n",
       " 'chlorides',\n",
       " 'free sulfur dioxide',\n",
       " 'total sulfur dioxide',\n",
       " 'density',\n",
       " 'pH',\n",
       " 'sulphates',\n",
       " 'alcohol',\n",
       " 'quality']"
      ]
     },
     "execution_count": 39,
     "metadata": {},
     "output_type": "execute_result"
    }
   ],
   "source": [
    "list(df.columns)"
   ]
  },
  {
   "cell_type": "code",
   "execution_count": 40,
   "id": "2ac85ba1",
   "metadata": {},
   "outputs": [],
   "source": [
    "#classifying to X and y\n",
    "X=df.iloc[:,:-1]\n",
    "y=df.iloc[:,-1]"
   ]
  },
  {
   "cell_type": "code",
   "execution_count": 41,
   "id": "1436a84c",
   "metadata": {},
   "outputs": [],
   "source": [
    "#Scaling the data\n",
    "ss=StandardScaler()"
   ]
  },
  {
   "cell_type": "code",
   "execution_count": 16,
   "id": "60d68192",
   "metadata": {},
   "outputs": [],
   "source": [
    "#column_to_transform = df[['free sulfur dioxide','fixed acidity','total sulfur dioxide']]  # Select the column to transform\n",
    "\n",
    "# Use fit_transform to scale the data\n",
    "#a = ss.fit_transform(column_to_transform)"
   ]
  },
  {
   "cell_type": "code",
   "execution_count": 42,
   "id": "452d340d",
   "metadata": {},
   "outputs": [],
   "source": [
    "X=ss.fit_transform(X)"
   ]
  },
  {
   "cell_type": "code",
   "execution_count": 43,
   "id": "0c8f176f",
   "metadata": {},
   "outputs": [
    {
     "data": {
      "text/plain": [
       "['fixed acidity',\n",
       " 'volatile acidity',\n",
       " 'citric acid',\n",
       " 'residual sugar',\n",
       " 'chlorides',\n",
       " 'free sulfur dioxide',\n",
       " 'total sulfur dioxide',\n",
       " 'density',\n",
       " 'pH',\n",
       " 'sulphates',\n",
       " 'alcohol',\n",
       " 'quality']"
      ]
     },
     "execution_count": 43,
     "metadata": {},
     "output_type": "execute_result"
    }
   ],
   "source": [
    "list(df.columns)"
   ]
  },
  {
   "cell_type": "code",
   "execution_count": 44,
   "id": "32b19471",
   "metadata": {},
   "outputs": [
    {
     "data": {
      "text/html": [
       "<div>\n",
       "<style scoped>\n",
       "    .dataframe tbody tr th:only-of-type {\n",
       "        vertical-align: middle;\n",
       "    }\n",
       "\n",
       "    .dataframe tbody tr th {\n",
       "        vertical-align: top;\n",
       "    }\n",
       "\n",
       "    .dataframe thead th {\n",
       "        text-align: right;\n",
       "    }\n",
       "</style>\n",
       "<table border=\"1\" class=\"dataframe\">\n",
       "  <thead>\n",
       "    <tr style=\"text-align: right;\">\n",
       "      <th></th>\n",
       "      <th>fixed acidity</th>\n",
       "      <th>volatile acidity</th>\n",
       "      <th>citric acid</th>\n",
       "      <th>residual sugar</th>\n",
       "      <th>chlorides</th>\n",
       "      <th>free sulfur dioxide</th>\n",
       "      <th>total sulfur dioxide</th>\n",
       "      <th>density</th>\n",
       "      <th>pH</th>\n",
       "      <th>sulphates</th>\n",
       "      <th>alcohol</th>\n",
       "    </tr>\n",
       "  </thead>\n",
       "  <tbody>\n",
       "    <tr>\n",
       "      <th>0</th>\n",
       "      <td>-0.528360</td>\n",
       "      <td>0.961877</td>\n",
       "      <td>-1.391472</td>\n",
       "      <td>-0.453218</td>\n",
       "      <td>-0.243707</td>\n",
       "      <td>-0.466193</td>\n",
       "      <td>-0.379133</td>\n",
       "      <td>0.558274</td>\n",
       "      <td>1.288643</td>\n",
       "      <td>-0.579207</td>\n",
       "      <td>-0.960246</td>\n",
       "    </tr>\n",
       "    <tr>\n",
       "      <th>1</th>\n",
       "      <td>-0.298547</td>\n",
       "      <td>1.967442</td>\n",
       "      <td>-1.391472</td>\n",
       "      <td>0.043416</td>\n",
       "      <td>0.223875</td>\n",
       "      <td>0.872638</td>\n",
       "      <td>0.624363</td>\n",
       "      <td>0.028261</td>\n",
       "      <td>-0.719933</td>\n",
       "      <td>0.128950</td>\n",
       "      <td>-0.584777</td>\n",
       "    </tr>\n",
       "    <tr>\n",
       "      <th>2</th>\n",
       "      <td>-0.298547</td>\n",
       "      <td>1.297065</td>\n",
       "      <td>-1.186070</td>\n",
       "      <td>-0.169427</td>\n",
       "      <td>0.096353</td>\n",
       "      <td>-0.083669</td>\n",
       "      <td>0.229047</td>\n",
       "      <td>0.134264</td>\n",
       "      <td>-0.331177</td>\n",
       "      <td>-0.048089</td>\n",
       "      <td>-0.584777</td>\n",
       "    </tr>\n",
       "    <tr>\n",
       "      <th>3</th>\n",
       "      <td>1.654856</td>\n",
       "      <td>-1.384443</td>\n",
       "      <td>1.484154</td>\n",
       "      <td>-0.453218</td>\n",
       "      <td>-0.264960</td>\n",
       "      <td>0.107592</td>\n",
       "      <td>0.411500</td>\n",
       "      <td>0.664277</td>\n",
       "      <td>-0.979104</td>\n",
       "      <td>-0.461180</td>\n",
       "      <td>-0.584777</td>\n",
       "    </tr>\n",
       "    <tr>\n",
       "      <th>4</th>\n",
       "      <td>-0.528360</td>\n",
       "      <td>0.961877</td>\n",
       "      <td>-1.391472</td>\n",
       "      <td>-0.453218</td>\n",
       "      <td>-0.243707</td>\n",
       "      <td>-0.466193</td>\n",
       "      <td>-0.379133</td>\n",
       "      <td>0.558274</td>\n",
       "      <td>1.288643</td>\n",
       "      <td>-0.579207</td>\n",
       "      <td>-0.960246</td>\n",
       "    </tr>\n",
       "    <tr>\n",
       "      <th>...</th>\n",
       "      <td>...</td>\n",
       "      <td>...</td>\n",
       "      <td>...</td>\n",
       "      <td>...</td>\n",
       "      <td>...</td>\n",
       "      <td>...</td>\n",
       "      <td>...</td>\n",
       "      <td>...</td>\n",
       "      <td>...</td>\n",
       "      <td>...</td>\n",
       "      <td>...</td>\n",
       "    </tr>\n",
       "    <tr>\n",
       "      <th>1594</th>\n",
       "      <td>-1.217796</td>\n",
       "      <td>0.403229</td>\n",
       "      <td>-0.980669</td>\n",
       "      <td>-0.382271</td>\n",
       "      <td>0.053845</td>\n",
       "      <td>1.542054</td>\n",
       "      <td>-0.075043</td>\n",
       "      <td>-0.978765</td>\n",
       "      <td>0.899886</td>\n",
       "      <td>-0.461180</td>\n",
       "      <td>0.072294</td>\n",
       "    </tr>\n",
       "    <tr>\n",
       "      <th>1595</th>\n",
       "      <td>-1.390155</td>\n",
       "      <td>0.123905</td>\n",
       "      <td>-0.877968</td>\n",
       "      <td>-0.240375</td>\n",
       "      <td>-0.541259</td>\n",
       "      <td>2.211469</td>\n",
       "      <td>0.137820</td>\n",
       "      <td>-0.862162</td>\n",
       "      <td>1.353436</td>\n",
       "      <td>0.601055</td>\n",
       "      <td>0.729364</td>\n",
       "    </tr>\n",
       "    <tr>\n",
       "      <th>1596</th>\n",
       "      <td>-1.160343</td>\n",
       "      <td>-0.099554</td>\n",
       "      <td>-0.723916</td>\n",
       "      <td>-0.169427</td>\n",
       "      <td>-0.243707</td>\n",
       "      <td>1.255161</td>\n",
       "      <td>-0.196679</td>\n",
       "      <td>-0.533554</td>\n",
       "      <td>0.705508</td>\n",
       "      <td>0.542042</td>\n",
       "      <td>0.541630</td>\n",
       "    </tr>\n",
       "    <tr>\n",
       "      <th>1597</th>\n",
       "      <td>-1.390155</td>\n",
       "      <td>0.654620</td>\n",
       "      <td>-0.775267</td>\n",
       "      <td>-0.382271</td>\n",
       "      <td>-0.264960</td>\n",
       "      <td>1.542054</td>\n",
       "      <td>-0.075043</td>\n",
       "      <td>-0.676657</td>\n",
       "      <td>1.677400</td>\n",
       "      <td>0.305990</td>\n",
       "      <td>-0.209308</td>\n",
       "    </tr>\n",
       "    <tr>\n",
       "      <th>1598</th>\n",
       "      <td>-1.332702</td>\n",
       "      <td>-1.216849</td>\n",
       "      <td>1.021999</td>\n",
       "      <td>0.752894</td>\n",
       "      <td>-0.434990</td>\n",
       "      <td>0.203223</td>\n",
       "      <td>-0.135861</td>\n",
       "      <td>-0.666057</td>\n",
       "      <td>0.511130</td>\n",
       "      <td>0.010924</td>\n",
       "      <td>0.541630</td>\n",
       "    </tr>\n",
       "  </tbody>\n",
       "</table>\n",
       "<p>1599 rows × 11 columns</p>\n",
       "</div>"
      ],
      "text/plain": [
       "      fixed acidity  volatile acidity  citric acid  residual sugar  chlorides  \\\n",
       "0         -0.528360          0.961877    -1.391472       -0.453218  -0.243707   \n",
       "1         -0.298547          1.967442    -1.391472        0.043416   0.223875   \n",
       "2         -0.298547          1.297065    -1.186070       -0.169427   0.096353   \n",
       "3          1.654856         -1.384443     1.484154       -0.453218  -0.264960   \n",
       "4         -0.528360          0.961877    -1.391472       -0.453218  -0.243707   \n",
       "...             ...               ...          ...             ...        ...   \n",
       "1594      -1.217796          0.403229    -0.980669       -0.382271   0.053845   \n",
       "1595      -1.390155          0.123905    -0.877968       -0.240375  -0.541259   \n",
       "1596      -1.160343         -0.099554    -0.723916       -0.169427  -0.243707   \n",
       "1597      -1.390155          0.654620    -0.775267       -0.382271  -0.264960   \n",
       "1598      -1.332702         -1.216849     1.021999        0.752894  -0.434990   \n",
       "\n",
       "      free sulfur dioxide  total sulfur dioxide   density        pH  \\\n",
       "0               -0.466193             -0.379133  0.558274  1.288643   \n",
       "1                0.872638              0.624363  0.028261 -0.719933   \n",
       "2               -0.083669              0.229047  0.134264 -0.331177   \n",
       "3                0.107592              0.411500  0.664277 -0.979104   \n",
       "4               -0.466193             -0.379133  0.558274  1.288643   \n",
       "...                   ...                   ...       ...       ...   \n",
       "1594             1.542054             -0.075043 -0.978765  0.899886   \n",
       "1595             2.211469              0.137820 -0.862162  1.353436   \n",
       "1596             1.255161             -0.196679 -0.533554  0.705508   \n",
       "1597             1.542054             -0.075043 -0.676657  1.677400   \n",
       "1598             0.203223             -0.135861 -0.666057  0.511130   \n",
       "\n",
       "      sulphates   alcohol  \n",
       "0     -0.579207 -0.960246  \n",
       "1      0.128950 -0.584777  \n",
       "2     -0.048089 -0.584777  \n",
       "3     -0.461180 -0.584777  \n",
       "4     -0.579207 -0.960246  \n",
       "...         ...       ...  \n",
       "1594  -0.461180  0.072294  \n",
       "1595   0.601055  0.729364  \n",
       "1596   0.542042  0.541630  \n",
       "1597   0.305990 -0.209308  \n",
       "1598   0.010924  0.541630  \n",
       "\n",
       "[1599 rows x 11 columns]"
      ]
     },
     "execution_count": 44,
     "metadata": {},
     "output_type": "execute_result"
    }
   ],
   "source": [
    "pd.DataFrame(X,columns=['fixed acidity','volatile acidity','citric acid','residual sugar','chlorides','free sulfur dioxide','total sulfur dioxide','density','pH','sulphates','alcohol'])"
   ]
  },
  {
   "cell_type": "code",
   "execution_count": 45,
   "id": "f0665569",
   "metadata": {},
   "outputs": [
    {
     "data": {
      "text/plain": [
       "array([[-0.52835961,  0.96187667, -1.39147228, ...,  1.28864292,\n",
       "        -0.57920652, -0.96024611],\n",
       "       [-0.29854743,  1.96744245, -1.39147228, ..., -0.7199333 ,\n",
       "         0.1289504 , -0.58477711],\n",
       "       [-0.29854743,  1.29706527, -1.18607043, ..., -0.33117661,\n",
       "        -0.04808883, -0.58477711],\n",
       "       ...,\n",
       "       [-1.1603431 , -0.09955388, -0.72391627, ...,  0.70550789,\n",
       "         0.54204194,  0.54162988],\n",
       "       [-1.39015528,  0.65462046, -0.77526673, ...,  1.6773996 ,\n",
       "         0.30598963, -0.20930812],\n",
       "       [-1.33270223, -1.21684919,  1.02199944, ...,  0.51112954,\n",
       "         0.01092425,  0.54162988]])"
      ]
     },
     "execution_count": 45,
     "metadata": {},
     "output_type": "execute_result"
    }
   ],
   "source": [
    "X"
   ]
  },
  {
   "cell_type": "code",
   "execution_count": 46,
   "id": "f637622c",
   "metadata": {},
   "outputs": [
    {
     "data": {
      "text/plain": [
       "0       5\n",
       "1       5\n",
       "2       5\n",
       "3       6\n",
       "4       5\n",
       "       ..\n",
       "1594    5\n",
       "1595    6\n",
       "1596    6\n",
       "1597    5\n",
       "1598    6\n",
       "Name: quality, Length: 1599, dtype: int64"
      ]
     },
     "execution_count": 46,
     "metadata": {},
     "output_type": "execute_result"
    }
   ],
   "source": [
    "y"
   ]
  },
  {
   "cell_type": "code",
   "execution_count": 47,
   "id": "1cfb01ae",
   "metadata": {},
   "outputs": [],
   "source": [
    "from sklearn.model_selection import train_test_split"
   ]
  },
  {
   "cell_type": "code",
   "execution_count": 48,
   "id": "3105847a",
   "metadata": {},
   "outputs": [],
   "source": [
    "X_train, X_test, y_train, y_test = train_test_split(X, y, test_size=0.33, random_state=101)"
   ]
  },
  {
   "cell_type": "code",
   "execution_count": 49,
   "id": "17f2c25c",
   "metadata": {},
   "outputs": [
    {
     "data": {
      "text/plain": [
       "(1599, 11)"
      ]
     },
     "execution_count": 49,
     "metadata": {},
     "output_type": "execute_result"
    }
   ],
   "source": [
    "X.shape"
   ]
  },
  {
   "cell_type": "code",
   "execution_count": 50,
   "id": "a9d7c853",
   "metadata": {},
   "outputs": [
    {
     "data": {
      "text/plain": [
       "(1599,)"
      ]
     },
     "execution_count": 50,
     "metadata": {},
     "output_type": "execute_result"
    }
   ],
   "source": [
    "y.shape"
   ]
  },
  {
   "cell_type": "code",
   "execution_count": 51,
   "id": "4d3f6577",
   "metadata": {},
   "outputs": [
    {
     "data": {
      "text/plain": [
       "array([[-0.01128221,  1.4087948 , -0.87796766, ...,  1.09426457,\n",
       "        -0.75624575, -0.39704261],\n",
       "       [-0.47090657,  1.10153859, -1.18607043, ..., -0.33117661,\n",
       "        -0.75624575, -0.77251161],\n",
       "       [-0.41345352, -0.21128341,  0.30309297, ...,  0.64071511,\n",
       "        -0.46118037, -1.3357151 ],\n",
       "       ...,\n",
       "       [ 0.16107692, -0.60233677,  0.61119574, ...,  0.25195842,\n",
       "         0.18796348,  1.19870062],\n",
       "       [-0.06873526,  0.59875569, -0.87796766, ..., -0.13679827,\n",
       "         0.54204194,  0.44776263],\n",
       "       [-0.29854743, -0.04368911, -0.10771073, ...,  0.77030067,\n",
       "        -0.04808883, -1.3357151 ]])"
      ]
     },
     "execution_count": 51,
     "metadata": {},
     "output_type": "execute_result"
    }
   ],
   "source": [
    "X_test"
   ]
  },
  {
   "cell_type": "code",
   "execution_count": 52,
   "id": "b67947de",
   "metadata": {},
   "outputs": [
    {
     "data": {
      "text/plain": [
       "678     5\n",
       "1500    5\n",
       "1457    5\n",
       "1079    7\n",
       "909     6\n",
       "       ..\n",
       "990     5\n",
       "1444    6\n",
       "1202    8\n",
       "1291    6\n",
       "500     6\n",
       "Name: quality, Length: 528, dtype: int64"
      ]
     },
     "execution_count": 52,
     "metadata": {},
     "output_type": "execute_result"
    }
   ],
   "source": [
    "y_test"
   ]
  },
  {
   "cell_type": "code",
   "execution_count": 53,
   "id": "8607aa09",
   "metadata": {},
   "outputs": [],
   "source": [
    "from sklearn.linear_model import LinearRegression"
   ]
  },
  {
   "cell_type": "code",
   "execution_count": 54,
   "id": "fd0b7af7",
   "metadata": {},
   "outputs": [],
   "source": [
    "lm=LinearRegression()"
   ]
  },
  {
   "cell_type": "code",
   "execution_count": 55,
   "id": "c9905f05",
   "metadata": {},
   "outputs": [
    {
     "data": {
      "text/plain": [
       "LinearRegression()"
      ]
     },
     "execution_count": 55,
     "metadata": {},
     "output_type": "execute_result"
    }
   ],
   "source": [
    "lm.fit(X_train,y_train)"
   ]
  },
  {
   "cell_type": "code",
   "execution_count": 56,
   "id": "5eb3a544",
   "metadata": {},
   "outputs": [
    {
     "data": {
      "text/plain": [
       "array([5.03003792, 5.23628062, 5.01246775, 5.81779264, 6.18374528,\n",
       "       6.49754959, 6.2374725 , 6.05406419, 5.86370041, 5.60421949,\n",
       "       5.80191677, 5.95606748, 6.20303329, 5.23229355, 5.62643663,\n",
       "       5.23322573, 6.38035537, 5.2346498 , 5.18749358, 5.47869148,\n",
       "       5.82249347, 5.62242535, 5.27549582, 5.8020534 , 5.70625604,\n",
       "       5.15520283, 5.31949683, 5.68635508, 6.50465315, 5.3098149 ,\n",
       "       5.31131237, 5.18560412, 5.7714925 , 5.37977679, 5.45365799,\n",
       "       6.5023938 , 5.83699868, 6.27839734, 5.1306076 , 5.09367743,\n",
       "       6.51828747, 5.23371783, 6.05951077, 5.84732076, 6.2357648 ,\n",
       "       6.07867179, 5.76120281, 6.5349755 , 4.89118498, 5.5944457 ,\n",
       "       5.49211822, 5.95135434, 5.4513232 , 5.48167518, 5.55267489,\n",
       "       6.0593122 , 6.10064314, 5.98966422, 6.60387211, 6.64166157,\n",
       "       5.06621371, 4.96668505, 5.42191556, 5.52386135, 5.13899293,\n",
       "       5.62242535, 4.98305001, 5.55517268, 4.95424287, 5.87929407,\n",
       "       4.95057069, 5.46011101, 6.05274177, 5.73476012, 5.3557913 ,\n",
       "       7.66970985, 5.27728241, 6.30122019, 5.24193372, 6.40464148,\n",
       "       5.02490186, 6.19267805, 5.23826982, 5.14114549, 6.08184021,\n",
       "       5.34340809, 5.38226275, 5.92138553, 4.96135849, 5.53449785,\n",
       "       6.90752977, 5.8999186 , 5.08541485, 5.91064451, 6.44354863,\n",
       "       5.4639629 , 5.34269071, 6.0417126 , 5.28979784, 5.93168293,\n",
       "       4.63432287, 6.34423961, 5.03327696, 6.06804571, 5.37378835,\n",
       "       5.52266653, 5.53211009, 5.67503725, 5.06835174, 6.47348785,\n",
       "       5.20624864, 5.73503865, 5.13232024, 6.06804571, 5.34065722,\n",
       "       6.04755273, 6.42336081, 5.1060566 , 5.39603668, 5.45668284,\n",
       "       6.11570019, 5.66267932, 5.17210803, 6.44296257, 5.75648118,\n",
       "       5.06105285, 6.28474623, 4.74804714, 5.78071935, 5.48013694,\n",
       "       5.50247105, 4.95922737, 6.44061552, 6.00072308, 5.51585901,\n",
       "       6.56016889, 5.06678132, 6.38605439, 6.03211631, 6.49204083,\n",
       "       5.09389938, 5.67352817, 5.339675  , 5.12856485, 5.64239667,\n",
       "       6.62771952, 5.74394664, 6.06414894, 5.98223685, 5.31684673,\n",
       "       5.61460436, 5.79086278, 4.77304966, 6.09443056, 5.44306048,\n",
       "       5.11948107, 4.72414285, 5.26365085, 5.92228956, 5.2796527 ,\n",
       "       5.16309171, 5.41156021, 5.56132732, 5.51793886, 5.67791254,\n",
       "       5.85156294, 6.517548  , 6.25271451, 6.35687802, 6.23211921,\n",
       "       5.03573299, 6.13283815, 6.42413835, 5.24141895, 5.99102633,\n",
       "       6.37018535, 6.27863812, 5.69094137, 5.90744148, 4.94870284,\n",
       "       6.2724836 , 5.48800254, 5.50086052, 5.20415499, 5.99092346,\n",
       "       4.82456291, 4.9173373 , 6.00279467, 5.98118917, 5.07364488,\n",
       "       6.33642078, 6.37787779, 5.68045263, 5.7491093 , 6.07824224,\n",
       "       6.11284577, 5.34681617, 5.49760883, 5.7491093 , 6.01657724,\n",
       "       5.14634041, 6.29597917, 5.48777349, 6.60276786, 6.09391531,\n",
       "       5.35310525, 6.19429783, 5.83796774, 6.19128355, 5.78173542,\n",
       "       5.99102633, 5.24238157, 6.65990244, 5.18772864, 5.49850441,\n",
       "       6.46759655, 5.06419168, 5.88690991, 5.11193543, 5.09255451,\n",
       "       4.94578751, 6.95740756, 5.37922228, 5.63670021, 6.1082824 ,\n",
       "       6.10904009, 6.37056733, 5.54611557, 6.07898166, 5.84879904,\n",
       "       5.49213736, 5.4380504 , 6.31788958, 4.74101387, 5.78644991,\n",
       "       5.50591031, 6.19267805, 5.48653445, 5.40747491, 5.60104693,\n",
       "       5.42561433, 6.37134111, 6.25537822, 5.24487461, 5.30170132,\n",
       "       5.17159485, 5.18730191, 6.54037556, 5.19393166, 6.16820355,\n",
       "       5.06678848, 6.01242768, 5.15546802, 5.00478401, 5.60430166,\n",
       "       5.37797226, 5.93095083, 5.06975029, 5.87799618, 6.87519975,\n",
       "       5.26493231, 6.40219521, 5.07082101, 5.54963023, 5.189951  ,\n",
       "       5.93926764, 5.16029395, 5.11629736, 5.87344569, 6.64105086,\n",
       "       5.6362045 , 5.80678583, 6.1009047 , 5.0969741 , 5.75234464,\n",
       "       5.33420881, 5.48277267, 6.00072308, 5.45536344, 5.46582158,\n",
       "       5.76388589, 6.0980896 , 6.23570605, 6.23744768, 5.36886376,\n",
       "       6.08288241, 5.12344152, 5.28640169, 5.29292554, 5.647599  ,\n",
       "       5.53650907, 5.25112725, 5.39191539, 5.58948154, 5.41156021,\n",
       "       6.20781778, 5.28640169, 6.31294445, 5.43797325, 5.05994242,\n",
       "       6.9219129 , 5.27885675, 5.42320995, 5.05994242, 5.85235488,\n",
       "       5.53038008, 5.64375219, 5.86548344, 5.02137549, 5.84404765,\n",
       "       6.0754739 , 5.76475006, 5.17594621, 5.3986932 , 4.8891446 ,\n",
       "       5.65419826, 5.29359425, 5.28773104, 5.71884581, 5.25059678,\n",
       "       5.70034146, 5.37763859, 5.09389938, 6.20579124, 5.45927013,\n",
       "       6.54576523, 6.27839734, 5.13641778, 5.12863303, 5.42977646,\n",
       "       6.4964965 , 5.04713694, 5.17280582, 5.98773259, 6.3834955 ,\n",
       "       5.10543883, 4.88478207, 5.4037875 , 5.58692466, 5.03777764,\n",
       "       6.16866818, 5.86548344, 5.85302445, 6.25518415, 5.58425933,\n",
       "       5.11951026, 6.25201059, 5.9333278 , 5.69185863, 5.50247105,\n",
       "       5.76605485, 5.9585196 , 5.93437792, 6.57209264, 6.17573418,\n",
       "       6.40464148, 6.23169519, 5.81503221, 5.54217463, 5.38244078,\n",
       "       5.68729419, 5.43943351, 5.2103007 , 6.56003932, 5.44275192,\n",
       "       5.49735325, 6.00465615, 6.16785923, 6.25224431, 5.1464203 ,\n",
       "       6.68603878, 5.53384171, 4.82810043, 5.83344808, 5.12853505,\n",
       "       5.83793008, 6.79796279, 6.59588248, 5.82892689, 5.90375212,\n",
       "       5.21744396, 6.47961282, 5.00797703, 5.11500096, 5.54641491,\n",
       "       6.28939987, 5.72640834, 5.12789387, 5.6983055 , 5.62094139,\n",
       "       6.32034328, 5.64588123, 4.78732189, 5.22641394, 6.40304401,\n",
       "       5.69878623, 5.59207827, 5.37263213, 5.44796104, 6.14370267,\n",
       "       5.0888694 , 5.19678974, 5.78173542, 6.25699851, 6.41059144,\n",
       "       5.94576952, 5.37393378, 6.18374528, 5.22062348, 6.61183357,\n",
       "       4.8864385 , 6.76496251, 6.22471496, 5.71699935, 4.77884293,\n",
       "       6.40698006, 5.34419396, 6.08149288, 5.22361122, 5.05191484,\n",
       "       5.23506024, 5.50842435, 5.16399059, 5.06448169, 5.37652122,\n",
       "       5.26483773, 6.0980896 , 6.99885399, 6.19429783, 5.72822975,\n",
       "       6.59191923, 6.57683628, 5.39191539, 5.8561374 , 5.94173002,\n",
       "       5.33198627, 6.02147731, 5.35591958, 5.62356084, 5.69908822,\n",
       "       6.20925504, 6.64886528, 5.54762633, 6.80295734, 5.74283333,\n",
       "       5.98527944, 5.90199524, 4.86655904, 4.97889995, 5.46762764,\n",
       "       5.41840799, 5.91963199, 5.27634428, 5.70374006, 5.73708159,\n",
       "       6.08156679, 5.26123581, 6.11079569, 6.41721904, 5.19148928,\n",
       "       5.47224616, 5.13232024, 5.65167907, 5.34351959, 5.61735601,\n",
       "       4.80427913, 5.4430925 , 5.119371  , 5.2453606 , 5.48466578,\n",
       "       5.24030289, 6.4959527 , 5.58275108, 5.07248873, 5.13669383,\n",
       "       5.76365083, 6.27775173, 5.30711335, 5.12283484, 5.68045263,\n",
       "       5.76081272, 5.79957949, 5.10316768, 6.09458386, 5.87710989,\n",
       "       5.23902446, 6.31851198, 5.18545374, 5.06353999, 5.3149395 ,\n",
       "       5.26211572, 6.54221159, 5.012783  , 5.09294718, 5.97161811,\n",
       "       5.43303816, 5.28337548, 5.73899004, 4.94818321, 6.37050835,\n",
       "       5.17038775, 5.68793321, 5.51473204, 5.73708159, 5.95997195,\n",
       "       5.47081525, 5.99620307, 5.81925711, 4.91322067, 5.32354028,\n",
       "       5.78471739, 5.81760226, 6.10766052, 5.20349166, 5.43027514,\n",
       "       5.35859088, 6.55884655, 5.0989719 , 5.05195371, 5.63342111,\n",
       "       5.99951743, 4.97951021, 5.07173147, 5.50591031, 5.66617046,\n",
       "       6.26098603, 5.80772808, 5.17459913])"
      ]
     },
     "execution_count": 56,
     "metadata": {},
     "output_type": "execute_result"
    }
   ],
   "source": [
    "lm.predict(X_test)"
   ]
  },
  {
   "cell_type": "code",
   "execution_count": 57,
   "id": "16c16835",
   "metadata": {},
   "outputs": [
    {
     "data": {
      "text/plain": [
       "0.301790632263082"
      ]
     },
     "execution_count": 57,
     "metadata": {},
     "output_type": "execute_result"
    }
   ],
   "source": [
    "lm.score(X_test,y_test)"
   ]
  },
  {
   "cell_type": "code",
   "execution_count": 58,
   "id": "28bd1ddc",
   "metadata": {},
   "outputs": [],
   "source": [
    "#"
   ]
  },
  {
   "cell_type": "code",
   "execution_count": null,
   "id": "9b894f48",
   "metadata": {},
   "outputs": [],
   "source": []
  }
 ],
 "metadata": {
  "kernelspec": {
   "display_name": "Python 3",
   "language": "python",
   "name": "python3"
  },
  "language_info": {
   "codemirror_mode": {
    "name": "ipython",
    "version": 3
   },
   "file_extension": ".py",
   "mimetype": "text/x-python",
   "name": "python",
   "nbconvert_exporter": "python",
   "pygments_lexer": "ipython3",
   "version": "3.8.8"
  }
 },
 "nbformat": 4,
 "nbformat_minor": 5
}
